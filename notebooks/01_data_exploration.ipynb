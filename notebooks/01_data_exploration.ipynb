{
 "cells": [
  {
   "cell_type": "code",
   "execution_count": 1,
   "id": "c32b7b15",
   "metadata": {},
   "outputs": [],
   "source": [
    "import os\n",
    "import pandas as pd\n",
    "import json\n",
    "from tqdm import tqdm\n",
    "import matplotlib.pyplot as plt\n",
    "\n"
   ]
  },
  {
   "cell_type": "code",
   "execution_count": 2,
   "id": "cd3e2b70",
   "metadata": {},
   "outputs": [
    {
     "name": "stdout",
     "output_type": "stream",
     "text": [
      "Tracking path exists:  True\n",
      "Annotation path exists:  True\n"
     ]
    }
   ],
   "source": [
    "base_path = \"/home/rahuladhi/Desktop/AI/MABe/MABe-mouse-behavior-detection\"\n",
    "train_tracking_path = os.path.join(base_path, 'train_tracking')\n",
    "train_annotation_path = os.path.join(base_path, 'train_annotation')\n",
    "\n",
    "print(\"Tracking path exists: \", os.path.exists(train_tracking_path))\n",
    "print(\"Annotation path exists: \", os.path.exists(train_annotation_path))\n"
   ]
  },
  {
   "cell_type": "code",
   "execution_count": 3,
   "id": "170fa14e",
   "metadata": {},
   "outputs": [
    {
     "name": "stdout",
     "output_type": "stream",
     "text": [
      "Number of tracking folders:  21\n",
      "NUmber of annotation folders:  19\n",
      "Example of tracking folders:  ['AdaptableSnail', 'BoisterousParrot', 'CRIM13', 'CalMS21_supplemental', 'CalMS21_task1']\n",
      "Example of annotation folders:  ['AdaptableSnail', 'BoisterousParrot', 'CRIM13', 'CalMS21_supplemental', 'CalMS21_task1']\n"
     ]
    }
   ],
   "source": [
    "tracking_folders = sorted(os.listdir(train_tracking_path))\n",
    "annotation_folders = sorted(os.listdir(train_annotation_path))\n",
    "\n",
    "print(\"Number of tracking folders: \", len(tracking_folders))\n",
    "print(\"NUmber of annotation folders: \", len(annotation_folders))\n",
    "\n",
    "print(\"Example of tracking folders: \", tracking_folders[:5])\n",
    "print(\"Example of annotation folders: \", annotation_folders[:5])"
   ]
  },
  {
   "cell_type": "code",
   "execution_count": 4,
   "id": "30121fca",
   "metadata": {},
   "outputs": [
    {
     "name": "stdout",
     "output_type": "stream",
     "text": [
      "There in tracking but not in annotation:  {'MABe22_movies', 'MABe22_keypoints'}\n",
      "There in annotation but not in tracking:  set()\n"
     ]
    }
   ],
   "source": [
    "tracking_set = set(tracking_folders)\n",
    "annotation_set = set(annotation_folders)\n",
    "\n",
    "print(\"There in tracking but not in annotation: \", tracking_set - annotation_set)\n",
    "print(\"There in annotation but not in tracking: \", annotation_set - tracking_set)"
   ]
  },
  {
   "cell_type": "code",
   "execution_count": 5,
   "id": "2a048de5",
   "metadata": {},
   "outputs": [
    {
     "data": {
      "text/plain": [
       "19"
      ]
     },
     "execution_count": 5,
     "metadata": {},
     "output_type": "execute_result"
    }
   ],
   "source": [
    "true_set = tracking_set & annotation_set\n",
    "true_folders = sorted(true_set)\n",
    "len(true_folders)\n"
   ]
  },
  {
   "cell_type": "code",
   "execution_count": 19,
   "id": "c2742708",
   "metadata": {},
   "outputs": [
    {
     "name": "stdout",
     "output_type": "stream",
     "text": [
      "Not matching -  PleasantMeerkat\n",
      "Not matching -  ReflectiveManatee\n",
      "Not matching -  SparklingTapir\n",
      "Not matching -  TranquilPanther\n",
      "Not matching -  UppityFerret\n"
     ]
    }
   ],
   "source": [
    "mismatch_folders = []\n",
    "tracking_files = []\n",
    "annotation_files = []\n",
    "\n",
    "for folder in true_folders:\n",
    "    tracking_files_path = os.path.join(train_tracking_path, folder)\n",
    "    annotation_files_path = os.path.join(train_annotation_path, folder)\n",
    "\n",
    "\n",
    "    for f in os.listdir(tracking_files_path):\n",
    "        if f.endswith(\".parquet\"):\n",
    "            tracking_files.append(f)\n",
    "    for f in os.listdir(annotation_files_path):\n",
    "        if f.endswith(\".parquet\"):\n",
    "            annotation_files.append(f)\n",
    "\n",
    "    tracking_files_set = set(tracking_files)\n",
    "    annotation_files_set = set(annotation_files)\n",
    "\n",
    "    #print(\"Number of tracking files: \", len(tracking_files))\n",
    "    #print(\"Number of annotation files: \", len(annotation_files))\n",
    "\n",
    "\n",
    "    if len(tracking_files)!=len(annotation_files):\n",
    "        print(\"Not matching - \", folder)\n",
    "        mismatch_folders.append(folder)\n"
   ]
  },
  {
   "cell_type": "code",
   "execution_count": 20,
   "id": "42965a3a",
   "metadata": {},
   "outputs": [
    {
     "name": "stdout",
     "output_type": "stream",
     "text": [
      "PleasantMeerkat\n",
      "Number of files in tracking:  36\n",
      "Number of files in annotation:  35\n",
      "ReflectiveManatee\n",
      "Number of files in tracking:  20\n",
      "Number of files in annotation:  20\n",
      "SparklingTapir\n",
      "Number of files in tracking:  69\n",
      "Number of files in annotation:  54\n",
      "TranquilPanther\n",
      "Number of files in tracking:  25\n",
      "Number of files in annotation:  25\n",
      "UppityFerret\n",
      "Number of files in tracking:  21\n",
      "Number of files in annotation:  21\n"
     ]
    }
   ],
   "source": [
    "for folder in mismatch_folders:\n",
    "    print(folder)\n",
    "    tracking_mismatch_file_path = os.path.join(train_tracking_path, folder)\n",
    "    annotation_mismatch_file_path = os.path.join(train_annotation_path, folder)\n",
    "\n",
    "    tracking_mismatch_files = sorted(os.listdir(tracking_mismatch_file_path))\n",
    "    annotation_mismatch_files = sorted(os.listdir(annotation_mismatch_file_path))\n",
    "\n",
    "    print(\"Number of files in tracking: \", len(tracking_mismatch_files))\n",
    "    print(\"Number of files in annotation: \", len(annotation_mismatch_files))\n",
    "\n",
    "\n"
   ]
  },
  {
   "cell_type": "code",
   "execution_count": null,
   "id": "1cebe34f",
   "metadata": {},
   "outputs": [],
   "source": []
  }
 ],
 "metadata": {
  "kernelspec": {
   "display_name": "dl_env",
   "language": "python",
   "name": "python3"
  },
  "language_info": {
   "codemirror_mode": {
    "name": "ipython",
    "version": 3
   },
   "file_extension": ".py",
   "mimetype": "text/x-python",
   "name": "python",
   "nbconvert_exporter": "python",
   "pygments_lexer": "ipython3",
   "version": "3.10.12"
  }
 },
 "nbformat": 4,
 "nbformat_minor": 5
}

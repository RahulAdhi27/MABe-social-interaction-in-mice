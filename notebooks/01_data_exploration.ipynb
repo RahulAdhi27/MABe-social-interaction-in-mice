{
 "cells": [
  {
   "cell_type": "code",
   "execution_count": 2,
   "id": "c32b7b15",
   "metadata": {},
   "outputs": [],
   "source": [
    "import os\n",
    "import pandas as pd\n",
    "import json\n",
    "from tqdm import tqdm\n",
    "import matplotlib.pyplot as plt\n",
    "\n"
   ]
  },
  {
   "cell_type": "code",
   "execution_count": 3,
   "id": "cd3e2b70",
   "metadata": {},
   "outputs": [
    {
     "name": "stdout",
     "output_type": "stream",
     "text": [
      "Tracking path exists:  True\n",
      "Annotation path exists:  True\n"
     ]
    }
   ],
   "source": [
    "base_path = \"/home/rahuladhi/Desktop/AI/MABe/MABe-mouse-behavior-detection\"\n",
    "train_tracking_path = os.path.join(base_path, 'train_tracking')\n",
    "train_annotation_path = os.path.join(base_path, 'train_annotation')\n",
    "\n",
    "print(\"Tracking path exists: \", os.path.exists(train_tracking_path))\n",
    "print(\"Annotation path exists: \", os.path.exists(train_annotation_path))\n"
   ]
  },
  {
   "cell_type": "code",
   "execution_count": 13,
   "id": "170fa14e",
   "metadata": {},
   "outputs": [
    {
     "name": "stdout",
     "output_type": "stream",
     "text": [
      "Number of tracking folders:  21\n",
      "NUmber of annotation folders:  19\n",
      "Example of tracking folders:  ['AdaptableSnail', 'BoisterousParrot', 'CRIM13', 'CalMS21_supplemental', 'CalMS21_task1']\n",
      "Example of annotation folders:  ['AdaptableSnail', 'BoisterousParrot', 'CRIM13', 'CalMS21_supplemental', 'CalMS21_task1']\n"
     ]
    }
   ],
   "source": [
    "tracking_folders = sorted(os.listdir(train_tracking_path))\n",
    "annotation_folders = sorted(os.listdir(train_annotation_path))\n",
    "\n",
    "print(\"Number of tracking folders: \", len(tracking_folders))\n",
    "print(\"NUmber of annotation folders: \", len(annotation_folders))\n",
    "\n",
    "print(\"Example of tracking folders: \", tracking_folders[:5])\n",
    "print(\"Example of annotation folders: \", annotation_folders[:5])"
   ]
  },
  {
   "cell_type": "code",
   "execution_count": 14,
   "id": "30121fca",
   "metadata": {},
   "outputs": [
    {
     "name": "stdout",
     "output_type": "stream",
     "text": [
      "There in tracking but not in annotation:  {'MABe22_movies', 'MABe22_keypoints'}\n",
      "There in annotation but not in tracking:  set()\n"
     ]
    }
   ],
   "source": [
    "tracking_set = set(tracking_folders)\n",
    "annotation_set = set(annotation_folders)\n",
    "\n",
    "print(\"There in tracking but not in annotation: \", tracking_set - annotation_set)\n",
    "print(\"There in annotation but not in tracking: \", annotation_set - tracking_set)"
   ]
  },
  {
   "cell_type": "code",
   "execution_count": 15,
   "id": "2a048de5",
   "metadata": {},
   "outputs": [
    {
     "data": {
      "text/plain": [
       "19"
      ]
     },
     "execution_count": 15,
     "metadata": {},
     "output_type": "execute_result"
    }
   ],
   "source": [
    "valid_folders_set = tracking_set & annotation_set\n",
    "valid_folders = sorted(valid_folders_set)\n",
    "len(valid_folders)\n"
   ]
  },
  {
   "cell_type": "code",
   "execution_count": 16,
   "id": "c2742708",
   "metadata": {},
   "outputs": [
    {
     "name": "stdout",
     "output_type": "stream",
     "text": [
      "Not matching -  PleasantMeerkat\n",
      "Not matching -  SparklingTapir\n"
     ]
    }
   ],
   "source": [
    "mismatch_folders = []\n",
    "\n",
    "\n",
    "for folder in valid_folders:\n",
    "    tracking_files_path = os.path.join(train_tracking_path, folder)\n",
    "    annotation_files_path = os.path.join(train_annotation_path, folder)\n",
    "    tracking_files = []\n",
    "    annotation_files = []\n",
    "\n",
    "    for f in os.listdir(tracking_files_path):\n",
    "        if f.endswith(\".parquet\"):\n",
    "            tracking_files.append(f)\n",
    "    for f in os.listdir(annotation_files_path):\n",
    "        if f.endswith(\".parquet\"):\n",
    "            annotation_files.append(f)\n",
    "\n",
    "    tracking_files_set = set(tracking_files)\n",
    "    annotation_files_set = set(annotation_files)\n",
    "\n",
    "    #print(\"Number of tracking files: \", len(tracking_files))\n",
    "    #print(\"Number of annotation files: \", len(annotation_files))\n",
    "\n",
    "\n",
    "    if len(tracking_files)!=len(annotation_files):\n",
    "        print(\"Not matching - \", folder)\n",
    "        mismatch_folders.append(folder)\n"
   ]
  },
  {
   "cell_type": "code",
   "execution_count": 17,
   "id": "42965a3a",
   "metadata": {},
   "outputs": [
    {
     "name": "stdout",
     "output_type": "stream",
     "text": [
      "PleasantMeerkat\n",
      "Number of files in tracking:  36\n",
      "Number of files in annotation:  35\n",
      "Missing in tracking:  set()\n",
      "Missing in annotation:  {'1375833299.parquet'}\n",
      "SparklingTapir\n",
      "Number of files in tracking:  69\n",
      "Number of files in annotation:  54\n",
      "Missing in tracking:  set()\n",
      "Missing in annotation:  {'1430299100.parquet', '801328824.parquet', '1543851393.parquet', '329031399.parquet', '1772737271.parquet', '1588709555.parquet', '167444193.parquet', '834408298.parquet', '1085312517.parquet', '1366115611.parquet', '610412175.parquet', '361341393.parquet', '484405601.parquet', '139713291.parquet', '687999061.parquet'}\n"
     ]
    }
   ],
   "source": [
    "for folder in mismatch_folders:\n",
    "    print(folder)\n",
    "    tracking_mismatch_file_path = os.path.join(train_tracking_path, folder)\n",
    "    annotation_mismatch_file_path = os.path.join(train_annotation_path, folder)\n",
    "\n",
    "    tracking_mismatch_files = sorted(os.listdir(tracking_mismatch_file_path))\n",
    "    annotation_mismatch_files = sorted(os.listdir(annotation_mismatch_file_path))\n",
    "\n",
    "    print(\"Number of files in tracking: \", len(tracking_mismatch_files))\n",
    "    print(\"Number of files in annotation: \", len(annotation_mismatch_files))\n",
    "\n",
    "    tracking_mismatch_set = set(tracking_mismatch_files)\n",
    "    annotation_mismatch_set = set(annotation_mismatch_files)\n",
    "\n",
    "    print(\"Missing in tracking: \", annotation_mismatch_set-tracking_mismatch_set)\n",
    "    print(\"Missing in annotation: \", tracking_mismatch_set-annotation_mismatch_set)\n",
    "\n",
    "\n"
   ]
  },
  {
   "cell_type": "code",
   "execution_count": 18,
   "id": "1cebe34f",
   "metadata": {},
   "outputs": [],
   "source": [
    "valid_files_per_folder = {}\n",
    "\n",
    "for folder in valid_folders:\n",
    "    tracking_files_path = os.path.join(train_tracking_path, folder)\n",
    "    annotation_files_path = os.path.join(train_annotation_path, folder)\n",
    "    tracking_files = []\n",
    "    annotation_files = []\n",
    "\n",
    "    for f in os.listdir(tracking_files_path):\n",
    "        if f.endswith(\".parquet\"):\n",
    "            tracking_files.append(f)\n",
    "    for f in os.listdir(annotation_files_path):\n",
    "        if f.endswith(\".parquet\"):\n",
    "            annotation_files.append(f)\n",
    "\n",
    "    tracking_files_set = set(tracking_files)\n",
    "    annotation_files_set = set(annotation_files)\n",
    "\n",
    "    valid_files_set = tracking_files_set & annotation_files_set\n",
    "    valid_files = sorted(valid_files_set)\n",
    "\n",
    "    valid_files_per_folder[folder] = valid_files\n",
    "    "
   ]
  },
  {
   "cell_type": "code",
   "execution_count": 19,
   "id": "c45738eb",
   "metadata": {},
   "outputs": [],
   "source": [
    "summary_data = []\n",
    "\n",
    "for folder in valid_folders:\n",
    "    tracking_count = len([f for f in os.listdir(os.path.join(train_tracking_path, folder)) if f.endswith('.parquet')])\n",
    "    annotation_count = len([f for f in os.listdir(os.path.join(train_annotation_path, folder)) if f.endswith('.parquet')])\n",
    "    valid_count = len(valid_files_per_folder.get(folder, []))\n",
    "    match_status = \"✅\" if tracking_count == annotation_count else \"⚠️\"\n",
    "\n",
    "    summary_data.append({\n",
    "        \"folder\": folder,\n",
    "        \"tracking_count\": tracking_count,\n",
    "        \"annotation_count\": annotation_count,\n",
    "        \"valid_count\": valid_count,\n",
    "        \"match_status\": match_status\n",
    "    })\n",
    "\n",
    "\n",
    "summary_df = pd.DataFrame(summary_data)\n",
    "summary_df.sort_values(\"folder\", inplace=True)\n",
    "summary_df.reset_index(drop=True, inplace=True)\n"
   ]
  },
  {
   "cell_type": "code",
   "execution_count": 20,
   "id": "f527d991",
   "metadata": {},
   "outputs": [
    {
     "data": {
      "text/html": [
       "<div>\n",
       "<style scoped>\n",
       "    .dataframe tbody tr th:only-of-type {\n",
       "        vertical-align: middle;\n",
       "    }\n",
       "\n",
       "    .dataframe tbody tr th {\n",
       "        vertical-align: top;\n",
       "    }\n",
       "\n",
       "    .dataframe thead th {\n",
       "        text-align: right;\n",
       "    }\n",
       "</style>\n",
       "<table border=\"1\" class=\"dataframe\">\n",
       "  <thead>\n",
       "    <tr style=\"text-align: right;\">\n",
       "      <th></th>\n",
       "      <th>folder</th>\n",
       "      <th>tracking_count</th>\n",
       "      <th>annotation_count</th>\n",
       "      <th>valid_count</th>\n",
       "      <th>match_status</th>\n",
       "    </tr>\n",
       "  </thead>\n",
       "  <tbody>\n",
       "    <tr>\n",
       "      <th>0</th>\n",
       "      <td>AdaptableSnail</td>\n",
       "      <td>17</td>\n",
       "      <td>17</td>\n",
       "      <td>17</td>\n",
       "      <td>✅</td>\n",
       "    </tr>\n",
       "    <tr>\n",
       "      <th>1</th>\n",
       "      <td>BoisterousParrot</td>\n",
       "      <td>8</td>\n",
       "      <td>8</td>\n",
       "      <td>8</td>\n",
       "      <td>✅</td>\n",
       "    </tr>\n",
       "    <tr>\n",
       "      <th>2</th>\n",
       "      <td>CRIM13</td>\n",
       "      <td>21</td>\n",
       "      <td>21</td>\n",
       "      <td>21</td>\n",
       "      <td>✅</td>\n",
       "    </tr>\n",
       "    <tr>\n",
       "      <th>3</th>\n",
       "      <td>CalMS21_supplemental</td>\n",
       "      <td>297</td>\n",
       "      <td>297</td>\n",
       "      <td>297</td>\n",
       "      <td>✅</td>\n",
       "    </tr>\n",
       "    <tr>\n",
       "      <th>4</th>\n",
       "      <td>CalMS21_task1</td>\n",
       "      <td>101</td>\n",
       "      <td>101</td>\n",
       "      <td>101</td>\n",
       "      <td>✅</td>\n",
       "    </tr>\n",
       "    <tr>\n",
       "      <th>5</th>\n",
       "      <td>CalMS21_task2</td>\n",
       "      <td>76</td>\n",
       "      <td>76</td>\n",
       "      <td>76</td>\n",
       "      <td>✅</td>\n",
       "    </tr>\n",
       "    <tr>\n",
       "      <th>6</th>\n",
       "      <td>CautiousGiraffe</td>\n",
       "      <td>10</td>\n",
       "      <td>10</td>\n",
       "      <td>10</td>\n",
       "      <td>✅</td>\n",
       "    </tr>\n",
       "    <tr>\n",
       "      <th>7</th>\n",
       "      <td>DeliriousFly</td>\n",
       "      <td>6</td>\n",
       "      <td>6</td>\n",
       "      <td>6</td>\n",
       "      <td>✅</td>\n",
       "    </tr>\n",
       "    <tr>\n",
       "      <th>8</th>\n",
       "      <td>ElegantMink</td>\n",
       "      <td>19</td>\n",
       "      <td>19</td>\n",
       "      <td>19</td>\n",
       "      <td>✅</td>\n",
       "    </tr>\n",
       "    <tr>\n",
       "      <th>9</th>\n",
       "      <td>GroovyShrew</td>\n",
       "      <td>17</td>\n",
       "      <td>17</td>\n",
       "      <td>17</td>\n",
       "      <td>✅</td>\n",
       "    </tr>\n",
       "    <tr>\n",
       "      <th>10</th>\n",
       "      <td>InvincibleJellyfish</td>\n",
       "      <td>33</td>\n",
       "      <td>33</td>\n",
       "      <td>33</td>\n",
       "      <td>✅</td>\n",
       "    </tr>\n",
       "    <tr>\n",
       "      <th>11</th>\n",
       "      <td>JovialSwallow</td>\n",
       "      <td>52</td>\n",
       "      <td>52</td>\n",
       "      <td>52</td>\n",
       "      <td>✅</td>\n",
       "    </tr>\n",
       "    <tr>\n",
       "      <th>12</th>\n",
       "      <td>LyricalHare</td>\n",
       "      <td>24</td>\n",
       "      <td>24</td>\n",
       "      <td>24</td>\n",
       "      <td>✅</td>\n",
       "    </tr>\n",
       "    <tr>\n",
       "      <th>13</th>\n",
       "      <td>NiftyGoldfinch</td>\n",
       "      <td>11</td>\n",
       "      <td>11</td>\n",
       "      <td>11</td>\n",
       "      <td>✅</td>\n",
       "    </tr>\n",
       "    <tr>\n",
       "      <th>14</th>\n",
       "      <td>PleasantMeerkat</td>\n",
       "      <td>36</td>\n",
       "      <td>35</td>\n",
       "      <td>35</td>\n",
       "      <td>⚠️</td>\n",
       "    </tr>\n",
       "    <tr>\n",
       "      <th>15</th>\n",
       "      <td>ReflectiveManatee</td>\n",
       "      <td>20</td>\n",
       "      <td>20</td>\n",
       "      <td>20</td>\n",
       "      <td>✅</td>\n",
       "    </tr>\n",
       "    <tr>\n",
       "      <th>16</th>\n",
       "      <td>SparklingTapir</td>\n",
       "      <td>69</td>\n",
       "      <td>54</td>\n",
       "      <td>54</td>\n",
       "      <td>⚠️</td>\n",
       "    </tr>\n",
       "    <tr>\n",
       "      <th>17</th>\n",
       "      <td>TranquilPanther</td>\n",
       "      <td>25</td>\n",
       "      <td>25</td>\n",
       "      <td>25</td>\n",
       "      <td>✅</td>\n",
       "    </tr>\n",
       "    <tr>\n",
       "      <th>18</th>\n",
       "      <td>UppityFerret</td>\n",
       "      <td>21</td>\n",
       "      <td>21</td>\n",
       "      <td>21</td>\n",
       "      <td>✅</td>\n",
       "    </tr>\n",
       "  </tbody>\n",
       "</table>\n",
       "</div>"
      ],
      "text/plain": [
       "                  folder  tracking_count  annotation_count  valid_count  \\\n",
       "0         AdaptableSnail              17                17           17   \n",
       "1       BoisterousParrot               8                 8            8   \n",
       "2                 CRIM13              21                21           21   \n",
       "3   CalMS21_supplemental             297               297          297   \n",
       "4          CalMS21_task1             101               101          101   \n",
       "5          CalMS21_task2              76                76           76   \n",
       "6        CautiousGiraffe              10                10           10   \n",
       "7           DeliriousFly               6                 6            6   \n",
       "8            ElegantMink              19                19           19   \n",
       "9            GroovyShrew              17                17           17   \n",
       "10   InvincibleJellyfish              33                33           33   \n",
       "11         JovialSwallow              52                52           52   \n",
       "12           LyricalHare              24                24           24   \n",
       "13        NiftyGoldfinch              11                11           11   \n",
       "14       PleasantMeerkat              36                35           35   \n",
       "15     ReflectiveManatee              20                20           20   \n",
       "16        SparklingTapir              69                54           54   \n",
       "17       TranquilPanther              25                25           25   \n",
       "18          UppityFerret              21                21           21   \n",
       "\n",
       "   match_status  \n",
       "0             ✅  \n",
       "1             ✅  \n",
       "2             ✅  \n",
       "3             ✅  \n",
       "4             ✅  \n",
       "5             ✅  \n",
       "6             ✅  \n",
       "7             ✅  \n",
       "8             ✅  \n",
       "9             ✅  \n",
       "10            ✅  \n",
       "11            ✅  \n",
       "12            ✅  \n",
       "13            ✅  \n",
       "14           ⚠️  \n",
       "15            ✅  \n",
       "16           ⚠️  \n",
       "17            ✅  \n",
       "18            ✅  "
      ]
     },
     "execution_count": 20,
     "metadata": {},
     "output_type": "execute_result"
    }
   ],
   "source": [
    "summary_df"
   ]
  },
  {
   "cell_type": "code",
   "execution_count": null,
   "id": "9576ff7e",
   "metadata": {},
   "outputs": [
    {
     "name": "stdout",
     "output_type": "stream",
     "text": [
      "Summary of the folders has been saved successfully\n"
     ]
    }
   ],
   "source": [
    "summary_df.to_csv(\"~/Desktop/AI/MABe/data/folder_summary.csv\", index=False)\n",
    "print(\"Summary of the folders has been saved successfully\")"
   ]
  },
  {
   "cell_type": "code",
   "execution_count": null,
   "id": "a58340df",
   "metadata": {},
   "outputs": [
    {
     "name": "stdout",
     "output_type": "stream",
     "text": [
      "✅ Valid files mapping saved to /home/rahuladhi/Desktop/AI/MABe/data/valid_files_per_folder.json\n"
     ]
    }
   ],
   "source": [
    "import os, json\n",
    "json_path = os.path.expanduser(\"~/Desktop/AI/MABe/data/valid_files_per_folder.json\")\n",
    "with open(json_path, \"w\") as f:\n",
    "    json.dump(valid_files_per_folder, f, indent=4)\n",
    "\n",
    "print(f\"✅ Valid files mapping saved to {json_path}\")\n",
    "\n"
   ]
  },
  {
   "cell_type": "code",
   "execution_count": null,
   "id": "38c5729a",
   "metadata": {},
   "outputs": [],
   "source": []
  }
 ],
 "metadata": {
  "kernelspec": {
   "display_name": "dl_env",
   "language": "python",
   "name": "python3"
  },
  "language_info": {
   "codemirror_mode": {
    "name": "ipython",
    "version": 3
   },
   "file_extension": ".py",
   "mimetype": "text/x-python",
   "name": "python",
   "nbconvert_exporter": "python",
   "pygments_lexer": "ipython3",
   "version": "3.10.12"
  }
 },
 "nbformat": 4,
 "nbformat_minor": 5
}

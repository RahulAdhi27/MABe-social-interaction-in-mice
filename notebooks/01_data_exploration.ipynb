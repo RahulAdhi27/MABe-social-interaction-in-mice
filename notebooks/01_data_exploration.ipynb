{
 "cells": [
  {
   "cell_type": "code",
   "execution_count": 27,
   "id": "c32b7b15",
   "metadata": {},
   "outputs": [],
   "source": [
    "import os\n",
    "import pandas as pd\n",
    "import json\n",
    "from tqdm import tqdm\n",
    "import matplotlib.pyplot as plt\n",
    "import numpy as np\n",
    "\n"
   ]
  },
  {
   "cell_type": "code",
   "execution_count": 28,
   "id": "cd3e2b70",
   "metadata": {},
   "outputs": [
    {
     "name": "stdout",
     "output_type": "stream",
     "text": [
      "Tracking path exists:  True\n",
      "Annotation path exists:  True\n"
     ]
    }
   ],
   "source": [
    "base_path = \"/home/rahuladhi/Desktop/AI/MABe/MABe-mouse-behavior-detection\"\n",
    "train_tracking_path = os.path.join(base_path, 'train_tracking')\n",
    "train_annotation_path = os.path.join(base_path, 'train_annotation')\n",
    "\n",
    "print(\"Tracking path exists: \", os.path.exists(train_tracking_path))\n",
    "print(\"Annotation path exists: \", os.path.exists(train_annotation_path))\n"
   ]
  },
  {
   "cell_type": "code",
   "execution_count": 29,
   "id": "170fa14e",
   "metadata": {},
   "outputs": [
    {
     "name": "stdout",
     "output_type": "stream",
     "text": [
      "Number of tracking folders:  21\n",
      "NUmber of annotation folders:  19\n",
      "Example of tracking folders:  ['AdaptableSnail', 'BoisterousParrot', 'CRIM13', 'CalMS21_supplemental', 'CalMS21_task1']\n",
      "Example of annotation folders:  ['AdaptableSnail', 'BoisterousParrot', 'CRIM13', 'CalMS21_supplemental', 'CalMS21_task1']\n"
     ]
    }
   ],
   "source": [
    "tracking_folders = sorted(os.listdir(train_tracking_path))\n",
    "annotation_folders = sorted(os.listdir(train_annotation_path))\n",
    "\n",
    "print(\"Number of tracking folders: \", len(tracking_folders))\n",
    "print(\"NUmber of annotation folders: \", len(annotation_folders))\n",
    "\n",
    "print(\"Example of tracking folders: \", tracking_folders[:5])\n",
    "print(\"Example of annotation folders: \", annotation_folders[:5])"
   ]
  },
  {
   "cell_type": "code",
   "execution_count": 30,
   "id": "30121fca",
   "metadata": {},
   "outputs": [
    {
     "name": "stdout",
     "output_type": "stream",
     "text": [
      "There in tracking but not in annotation:  {'MABe22_keypoints', 'MABe22_movies'}\n",
      "There in annotation but not in tracking:  set()\n"
     ]
    }
   ],
   "source": [
    "tracking_set = set(tracking_folders)\n",
    "annotation_set = set(annotation_folders)\n",
    "\n",
    "print(\"There in tracking but not in annotation: \", tracking_set - annotation_set)\n",
    "print(\"There in annotation but not in tracking: \", annotation_set - tracking_set)"
   ]
  },
  {
   "cell_type": "code",
   "execution_count": 31,
   "id": "2a048de5",
   "metadata": {},
   "outputs": [
    {
     "data": {
      "text/plain": [
       "19"
      ]
     },
     "execution_count": 31,
     "metadata": {},
     "output_type": "execute_result"
    }
   ],
   "source": [
    "valid_folders_set = tracking_set & annotation_set\n",
    "valid_folders = sorted(valid_folders_set)\n",
    "len(valid_folders)\n"
   ]
  },
  {
   "cell_type": "code",
   "execution_count": 32,
   "id": "c2742708",
   "metadata": {},
   "outputs": [
    {
     "name": "stdout",
     "output_type": "stream",
     "text": [
      "Not matching -  PleasantMeerkat\n",
      "Not matching -  SparklingTapir\n"
     ]
    }
   ],
   "source": [
    "mismatch_folders = []\n",
    "\n",
    "\n",
    "for folder in valid_folders:\n",
    "    tracking_files_path = os.path.join(train_tracking_path, folder)\n",
    "    annotation_files_path = os.path.join(train_annotation_path, folder)\n",
    "    tracking_files = []\n",
    "    annotation_files = []\n",
    "\n",
    "    for f in os.listdir(tracking_files_path):\n",
    "        if f.endswith(\".parquet\"):\n",
    "            tracking_files.append(f)\n",
    "    for f in os.listdir(annotation_files_path):\n",
    "        if f.endswith(\".parquet\"):\n",
    "            annotation_files.append(f)\n",
    "\n",
    "    tracking_files_set = set(tracking_files)\n",
    "    annotation_files_set = set(annotation_files)\n",
    "\n",
    "    #print(\"Number of tracking files: \", len(tracking_files))\n",
    "    #print(\"Number of annotation files: \", len(annotation_files))\n",
    "\n",
    "\n",
    "    if len(tracking_files)!=len(annotation_files):\n",
    "        print(\"Not matching - \", folder)\n",
    "        mismatch_folders.append(folder)\n"
   ]
  },
  {
   "cell_type": "code",
   "execution_count": 33,
   "id": "42965a3a",
   "metadata": {},
   "outputs": [
    {
     "name": "stdout",
     "output_type": "stream",
     "text": [
      "PleasantMeerkat\n",
      "Number of files in tracking:  36\n",
      "Number of files in annotation:  35\n",
      "Missing in tracking:  set()\n",
      "Missing in annotation:  {'1375833299.parquet'}\n",
      "SparklingTapir\n",
      "Number of files in tracking:  69\n",
      "Number of files in annotation:  54\n",
      "Missing in tracking:  set()\n",
      "Missing in annotation:  {'834408298.parquet', '484405601.parquet', '610412175.parquet', '139713291.parquet', '167444193.parquet', '1772737271.parquet', '1366115611.parquet', '687999061.parquet', '1430299100.parquet', '1543851393.parquet', '329031399.parquet', '361341393.parquet', '1588709555.parquet', '801328824.parquet', '1085312517.parquet'}\n"
     ]
    }
   ],
   "source": [
    "for folder in mismatch_folders:\n",
    "    print(folder)\n",
    "    tracking_mismatch_file_path = os.path.join(train_tracking_path, folder)\n",
    "    annotation_mismatch_file_path = os.path.join(train_annotation_path, folder)\n",
    "\n",
    "    tracking_mismatch_files = sorted(os.listdir(tracking_mismatch_file_path))\n",
    "    annotation_mismatch_files = sorted(os.listdir(annotation_mismatch_file_path))\n",
    "\n",
    "    print(\"Number of files in tracking: \", len(tracking_mismatch_files))\n",
    "    print(\"Number of files in annotation: \", len(annotation_mismatch_files))\n",
    "\n",
    "    tracking_mismatch_set = set(tracking_mismatch_files)\n",
    "    annotation_mismatch_set = set(annotation_mismatch_files)\n",
    "\n",
    "    print(\"Missing in tracking: \", annotation_mismatch_set-tracking_mismatch_set)\n",
    "    print(\"Missing in annotation: \", tracking_mismatch_set-annotation_mismatch_set)\n",
    "\n",
    "\n"
   ]
  },
  {
   "cell_type": "code",
   "execution_count": 34,
   "id": "1cebe34f",
   "metadata": {},
   "outputs": [],
   "source": [
    "valid_files_per_folder = {}\n",
    "\n",
    "for folder in valid_folders:\n",
    "    tracking_files_path = os.path.join(train_tracking_path, folder)\n",
    "    annotation_files_path = os.path.join(train_annotation_path, folder)\n",
    "    tracking_files = []\n",
    "    annotation_files = []\n",
    "\n",
    "    for f in os.listdir(tracking_files_path):\n",
    "        if f.endswith(\".parquet\"):\n",
    "            tracking_files.append(f)\n",
    "    for f in os.listdir(annotation_files_path):\n",
    "        if f.endswith(\".parquet\"):\n",
    "            annotation_files.append(f)\n",
    "\n",
    "    tracking_files_set = set(tracking_files)\n",
    "    annotation_files_set = set(annotation_files)\n",
    "\n",
    "    valid_files_set = tracking_files_set & annotation_files_set\n",
    "    valid_files = sorted(valid_files_set)\n",
    "\n",
    "    valid_files_per_folder[folder] = valid_files\n",
    "    "
   ]
  },
  {
   "cell_type": "code",
   "execution_count": 35,
   "id": "c45738eb",
   "metadata": {},
   "outputs": [],
   "source": [
    "summary_data = []\n",
    "\n",
    "for folder in valid_folders:\n",
    "    tracking_count = len([f for f in os.listdir(os.path.join(train_tracking_path, folder)) if f.endswith('.parquet')])\n",
    "    annotation_count = len([f for f in os.listdir(os.path.join(train_annotation_path, folder)) if f.endswith('.parquet')])\n",
    "    valid_count = len(valid_files_per_folder.get(folder, []))\n",
    "    match_status = \"✅\" if tracking_count == annotation_count else \"⚠️\"\n",
    "\n",
    "    summary_data.append({\n",
    "        \"folder\": folder,\n",
    "        \"tracking_count\": tracking_count,\n",
    "        \"annotation_count\": annotation_count,\n",
    "        \"valid_count\": valid_count,\n",
    "        \"match_status\": match_status\n",
    "    })\n",
    "\n",
    "\n",
    "summary_df = pd.DataFrame(summary_data)\n",
    "summary_df.sort_values(\"folder\", inplace=True)\n",
    "summary_df.reset_index(drop=True, inplace=True)\n"
   ]
  },
  {
   "cell_type": "code",
   "execution_count": 36,
   "id": "f527d991",
   "metadata": {},
   "outputs": [
    {
     "data": {
      "text/html": [
       "<div>\n",
       "<style scoped>\n",
       "    .dataframe tbody tr th:only-of-type {\n",
       "        vertical-align: middle;\n",
       "    }\n",
       "\n",
       "    .dataframe tbody tr th {\n",
       "        vertical-align: top;\n",
       "    }\n",
       "\n",
       "    .dataframe thead th {\n",
       "        text-align: right;\n",
       "    }\n",
       "</style>\n",
       "<table border=\"1\" class=\"dataframe\">\n",
       "  <thead>\n",
       "    <tr style=\"text-align: right;\">\n",
       "      <th></th>\n",
       "      <th>folder</th>\n",
       "      <th>tracking_count</th>\n",
       "      <th>annotation_count</th>\n",
       "      <th>valid_count</th>\n",
       "      <th>match_status</th>\n",
       "    </tr>\n",
       "  </thead>\n",
       "  <tbody>\n",
       "    <tr>\n",
       "      <th>0</th>\n",
       "      <td>AdaptableSnail</td>\n",
       "      <td>17</td>\n",
       "      <td>17</td>\n",
       "      <td>17</td>\n",
       "      <td>✅</td>\n",
       "    </tr>\n",
       "    <tr>\n",
       "      <th>1</th>\n",
       "      <td>BoisterousParrot</td>\n",
       "      <td>8</td>\n",
       "      <td>8</td>\n",
       "      <td>8</td>\n",
       "      <td>✅</td>\n",
       "    </tr>\n",
       "    <tr>\n",
       "      <th>2</th>\n",
       "      <td>CRIM13</td>\n",
       "      <td>21</td>\n",
       "      <td>21</td>\n",
       "      <td>21</td>\n",
       "      <td>✅</td>\n",
       "    </tr>\n",
       "    <tr>\n",
       "      <th>3</th>\n",
       "      <td>CalMS21_supplemental</td>\n",
       "      <td>297</td>\n",
       "      <td>297</td>\n",
       "      <td>297</td>\n",
       "      <td>✅</td>\n",
       "    </tr>\n",
       "    <tr>\n",
       "      <th>4</th>\n",
       "      <td>CalMS21_task1</td>\n",
       "      <td>101</td>\n",
       "      <td>101</td>\n",
       "      <td>101</td>\n",
       "      <td>✅</td>\n",
       "    </tr>\n",
       "    <tr>\n",
       "      <th>5</th>\n",
       "      <td>CalMS21_task2</td>\n",
       "      <td>76</td>\n",
       "      <td>76</td>\n",
       "      <td>76</td>\n",
       "      <td>✅</td>\n",
       "    </tr>\n",
       "    <tr>\n",
       "      <th>6</th>\n",
       "      <td>CautiousGiraffe</td>\n",
       "      <td>10</td>\n",
       "      <td>10</td>\n",
       "      <td>10</td>\n",
       "      <td>✅</td>\n",
       "    </tr>\n",
       "    <tr>\n",
       "      <th>7</th>\n",
       "      <td>DeliriousFly</td>\n",
       "      <td>6</td>\n",
       "      <td>6</td>\n",
       "      <td>6</td>\n",
       "      <td>✅</td>\n",
       "    </tr>\n",
       "    <tr>\n",
       "      <th>8</th>\n",
       "      <td>ElegantMink</td>\n",
       "      <td>19</td>\n",
       "      <td>19</td>\n",
       "      <td>19</td>\n",
       "      <td>✅</td>\n",
       "    </tr>\n",
       "    <tr>\n",
       "      <th>9</th>\n",
       "      <td>GroovyShrew</td>\n",
       "      <td>17</td>\n",
       "      <td>17</td>\n",
       "      <td>17</td>\n",
       "      <td>✅</td>\n",
       "    </tr>\n",
       "    <tr>\n",
       "      <th>10</th>\n",
       "      <td>InvincibleJellyfish</td>\n",
       "      <td>33</td>\n",
       "      <td>33</td>\n",
       "      <td>33</td>\n",
       "      <td>✅</td>\n",
       "    </tr>\n",
       "    <tr>\n",
       "      <th>11</th>\n",
       "      <td>JovialSwallow</td>\n",
       "      <td>52</td>\n",
       "      <td>52</td>\n",
       "      <td>52</td>\n",
       "      <td>✅</td>\n",
       "    </tr>\n",
       "    <tr>\n",
       "      <th>12</th>\n",
       "      <td>LyricalHare</td>\n",
       "      <td>24</td>\n",
       "      <td>24</td>\n",
       "      <td>24</td>\n",
       "      <td>✅</td>\n",
       "    </tr>\n",
       "    <tr>\n",
       "      <th>13</th>\n",
       "      <td>NiftyGoldfinch</td>\n",
       "      <td>11</td>\n",
       "      <td>11</td>\n",
       "      <td>11</td>\n",
       "      <td>✅</td>\n",
       "    </tr>\n",
       "    <tr>\n",
       "      <th>14</th>\n",
       "      <td>PleasantMeerkat</td>\n",
       "      <td>36</td>\n",
       "      <td>35</td>\n",
       "      <td>35</td>\n",
       "      <td>⚠️</td>\n",
       "    </tr>\n",
       "    <tr>\n",
       "      <th>15</th>\n",
       "      <td>ReflectiveManatee</td>\n",
       "      <td>20</td>\n",
       "      <td>20</td>\n",
       "      <td>20</td>\n",
       "      <td>✅</td>\n",
       "    </tr>\n",
       "    <tr>\n",
       "      <th>16</th>\n",
       "      <td>SparklingTapir</td>\n",
       "      <td>69</td>\n",
       "      <td>54</td>\n",
       "      <td>54</td>\n",
       "      <td>⚠️</td>\n",
       "    </tr>\n",
       "    <tr>\n",
       "      <th>17</th>\n",
       "      <td>TranquilPanther</td>\n",
       "      <td>25</td>\n",
       "      <td>25</td>\n",
       "      <td>25</td>\n",
       "      <td>✅</td>\n",
       "    </tr>\n",
       "    <tr>\n",
       "      <th>18</th>\n",
       "      <td>UppityFerret</td>\n",
       "      <td>21</td>\n",
       "      <td>21</td>\n",
       "      <td>21</td>\n",
       "      <td>✅</td>\n",
       "    </tr>\n",
       "  </tbody>\n",
       "</table>\n",
       "</div>"
      ],
      "text/plain": [
       "                  folder  tracking_count  annotation_count  valid_count  \\\n",
       "0         AdaptableSnail              17                17           17   \n",
       "1       BoisterousParrot               8                 8            8   \n",
       "2                 CRIM13              21                21           21   \n",
       "3   CalMS21_supplemental             297               297          297   \n",
       "4          CalMS21_task1             101               101          101   \n",
       "5          CalMS21_task2              76                76           76   \n",
       "6        CautiousGiraffe              10                10           10   \n",
       "7           DeliriousFly               6                 6            6   \n",
       "8            ElegantMink              19                19           19   \n",
       "9            GroovyShrew              17                17           17   \n",
       "10   InvincibleJellyfish              33                33           33   \n",
       "11         JovialSwallow              52                52           52   \n",
       "12           LyricalHare              24                24           24   \n",
       "13        NiftyGoldfinch              11                11           11   \n",
       "14       PleasantMeerkat              36                35           35   \n",
       "15     ReflectiveManatee              20                20           20   \n",
       "16        SparklingTapir              69                54           54   \n",
       "17       TranquilPanther              25                25           25   \n",
       "18          UppityFerret              21                21           21   \n",
       "\n",
       "   match_status  \n",
       "0             ✅  \n",
       "1             ✅  \n",
       "2             ✅  \n",
       "3             ✅  \n",
       "4             ✅  \n",
       "5             ✅  \n",
       "6             ✅  \n",
       "7             ✅  \n",
       "8             ✅  \n",
       "9             ✅  \n",
       "10            ✅  \n",
       "11            ✅  \n",
       "12            ✅  \n",
       "13            ✅  \n",
       "14           ⚠️  \n",
       "15            ✅  \n",
       "16           ⚠️  \n",
       "17            ✅  \n",
       "18            ✅  "
      ]
     },
     "execution_count": 36,
     "metadata": {},
     "output_type": "execute_result"
    }
   ],
   "source": [
    "summary_df"
   ]
  },
  {
   "cell_type": "code",
   "execution_count": 37,
   "id": "9576ff7e",
   "metadata": {},
   "outputs": [
    {
     "name": "stdout",
     "output_type": "stream",
     "text": [
      "Summary of the folders has been saved successfully\n"
     ]
    }
   ],
   "source": [
    "summary_df.to_csv(\"~/Desktop/AI/MABe/data/folder_summary.csv\", index=False)\n",
    "print(\"Summary of the folders has been saved successfully\")"
   ]
  },
  {
   "cell_type": "code",
   "execution_count": 38,
   "id": "a58340df",
   "metadata": {},
   "outputs": [
    {
     "name": "stdout",
     "output_type": "stream",
     "text": [
      "✅ Valid files mapping saved to /home/rahuladhi/Desktop/AI/MABe/data/valid_files_per_folder.json\n"
     ]
    }
   ],
   "source": [
    "import os, json\n",
    "json_path = os.path.expanduser(\"~/Desktop/AI/MABe/data/valid_files_per_folder.json\")\n",
    "with open(json_path, \"w\") as f:\n",
    "    json.dump(valid_files_per_folder, f, indent=4)\n",
    "\n",
    "print(f\"✅ Valid files mapping saved to {json_path}\")\n",
    "\n"
   ]
  },
  {
   "cell_type": "code",
   "execution_count": 39,
   "id": "38c5729a",
   "metadata": {},
   "outputs": [
    {
     "name": "stdout",
     "output_type": "stream",
     "text": [
      "AdaptableSnail: 17 files\n",
      "BoisterousParrot: 8 files\n",
      "CRIM13: 21 files\n",
      "CalMS21_supplemental: 297 files\n",
      "CalMS21_task1: 101 files\n",
      "CalMS21_task2: 76 files\n",
      "CautiousGiraffe: 10 files\n",
      "DeliriousFly: 6 files\n",
      "ElegantMink: 19 files\n",
      "GroovyShrew: 17 files\n",
      "InvincibleJellyfish: 33 files\n",
      "JovialSwallow: 52 files\n",
      "LyricalHare: 24 files\n",
      "NiftyGoldfinch: 11 files\n",
      "PleasantMeerkat: 35 files\n",
      "ReflectiveManatee: 20 files\n",
      "SparklingTapir: 54 files\n",
      "TranquilPanther: 25 files\n",
      "UppityFerret: 21 files\n"
     ]
    }
   ],
   "source": [
    "data_dir = os.path.join(\"/home/rahuladhi/Desktop/AI/MABe/\", \"data\")\n",
    "valid_files_path = os.path.join(data_dir, \"valid_files_per_folder.json\")\n",
    "\n",
    "with open(valid_files_path, \"r\") as f:\n",
    "    valid_files_per_folder = json.load(f)\n",
    "\n",
    "for folder, files in valid_files_per_folder.items():\n",
    "    print(f\"{folder}: {len(files)} files\")"
   ]
  },
  {
   "cell_type": "code",
   "execution_count": 40,
   "id": "3755abc0",
   "metadata": {},
   "outputs": [
    {
     "name": "stdout",
     "output_type": "stream",
     "text": [
      "Tracking file:  /home/rahuladhi/Desktop/AI/MABe/MABe-mouse-behavior-detection/train_tracking/AdaptableSnail/1212811043.parquet\n",
      "Annotation file:  /home/rahuladhi/Desktop/AI/MABe/MABe-mouse-behavior-detection/train_annotation/AdaptableSnail/1212811043.parquet\n"
     ]
    }
   ],
   "source": [
    "example_folder = \"AdaptableSnail\"\n",
    "example_file = valid_files_per_folder[example_folder][0]\n",
    "\n",
    "train_tracking_example = os.path.join(base_path, \"train_tracking\", example_folder)\n",
    "train_annotation_example = os.path.join(base_path, \"train_annotation\", example_folder)\n",
    "\n",
    "example_tracking = os.path.join(train_tracking_example, f\"{example_file}\")\n",
    "example_annotation = os.path.join(train_annotation_example, f\"{example_file}\")\n",
    "\n",
    "print(\"Tracking file: \", example_tracking)\n",
    "print(\"Annotation file: \", example_annotation)\n"
   ]
  },
  {
   "cell_type": "code",
   "execution_count": 41,
   "id": "fe1c499f",
   "metadata": {},
   "outputs": [
    {
     "name": "stdout",
     "output_type": "stream",
     "text": [
      "Tracking columns:  ['video_frame', 'mouse_id', 'bodypart', 'x', 'y']\n",
      "Annotation columns:  ['agent_id', 'target_id', 'action', 'start_frame', 'stop_frame']\n",
      "Tracking frame range:  0 - 89975\n",
      "Annotation frame range:  2 - 89467\n"
     ]
    }
   ],
   "source": [
    "import fastparquet\n",
    "tracking_df = pd.read_parquet(example_tracking, engine='fastparquet')\n",
    "annotation_df = pd.read_parquet(example_annotation, engine='fastparquet')\n",
    "\n",
    "print(\"Tracking columns: \", tracking_df.columns.tolist()[:10])\n",
    "print(\"Annotation columns: \", annotation_df.columns.tolist())\n",
    "\n",
    "print(\"Tracking frame range: \", tracking_df[\"video_frame\"].min(), \"-\", tracking_df[\"video_frame\"].max())\n",
    "print(\"Annotation frame range: \", annotation_df[\"start_frame\"].min(), \"-\", annotation_df[\"stop_frame\"].max())"
   ]
  },
  {
   "cell_type": "code",
   "execution_count": 42,
   "id": "adff10ab",
   "metadata": {},
   "outputs": [
    {
     "name": "stdout",
     "output_type": "stream",
     "text": [
      "{'tracking_range': (0, 89975), 'annotation_range': (2, 89467), 'overlap_ratio': 0.994, 'status': 'aligned'}\n"
     ]
    }
   ],
   "source": [
    "def check_frame_alignment(tracking_df, annotation_df):\n",
    "    \"\"\"\n",
    "    Compare frame ranges between tracking and annotation dataframes.\n",
    "    Returns a dictionary summary for one pair.\n",
    "    \"\"\"\n",
    "    t_min, t_max = tracking_df[\"video_frame\"].min(), tracking_df[\"video_frame\"].max()\n",
    "    a_min, a_max = annotation_df[\"start_frame\"].min(), annotation_df[\"stop_frame\"].max()\n",
    "    \n",
    "    overlap_start = max(t_min, a_min)\n",
    "    overlap_end = min(t_max, a_max)\n",
    "    overlap_ratio = (overlap_end - overlap_start) / (t_max - t_min)\n",
    "    \n",
    "    status = \"aligned\" if overlap_ratio >= 0.95 else \"trim required\"\n",
    "    \n",
    "    return {\n",
    "        \"tracking_range\": (t_min, t_max),\n",
    "        \"annotation_range\": (a_min, a_max),\n",
    "        \"overlap_ratio\": round(overlap_ratio, 3),\n",
    "        \"status\": status\n",
    "    }\n",
    "\n",
    "# Test on your example pair\n",
    "alignment_info = check_frame_alignment(tracking_df, annotation_df)\n",
    "print(alignment_info)\n"
   ]
  },
  {
   "cell_type": "code",
   "execution_count": 43,
   "id": "d2cffe1d",
   "metadata": {},
   "outputs": [
    {
     "name": "stderr",
     "output_type": "stream",
     "text": [
      "Checking frame alignment: 100%|██████████| 19/19 [00:10<00:00,  1.83it/s]"
     ]
    },
    {
     "name": "stdout",
     "output_type": "stream",
     "text": [
      "Frame alignment summary saved to: /home/rahuladhi/Desktop/AI/MABe/data/frame_alignment_summary.csv\n",
      "Per-file metadata saved under: /home/rahuladhi/Desktop/AI/MABe/data/alignment_metadata\n"
     ]
    },
    {
     "name": "stderr",
     "output_type": "stream",
     "text": [
      "\n"
     ]
    }
   ],
   "source": [
    "root_path = \"/home/rahuladhi/Desktop/AI/MABe\"\n",
    "\n",
    "STRICT_THRESHOLD = 0.99\n",
    "SOFT_THRESHOLD = 0.95\n",
    "\n",
    "metadata_dir = os.path.join(root_path, \"data\", \"alignment_metadata\")\n",
    "os.makedirs(metadata_dir, exist_ok = True)\n",
    "\n",
    "alignment_records = []\n",
    "\n",
    "def to_serializable(obj):\n",
    "    \"\"\"Recursively convert NumPy data types to native Python types.\"\"\"\n",
    "    if isinstance(obj, (np.integer, np.int32, np.int64, np.int16)):\n",
    "        return int(obj)\n",
    "    elif isinstance(obj, (np.floating, np.float32, np.float64)):\n",
    "        return float(obj)\n",
    "    elif isinstance(obj, dict):\n",
    "        return {k: to_serializable(v) for k, v in obj.items()}\n",
    "    elif isinstance(obj, (list, tuple)):\n",
    "        return [to_serializable(v) for v in obj]\n",
    "    else:\n",
    "        return obj\n",
    "\n",
    "\n",
    "def check_frame_alignment(tracking_df, annotation_df):\n",
    "    t_min, t_max = tracking_df[\"video_frame\"].min(), tracking_df[\"video_frame\"].max()\n",
    "    a_min, a_max = annotation_df[\"start_frame\"].min(), annotation_df[\"stop_frame\"].max()\n",
    "\n",
    "    overlap_start = max(t_min, a_min)\n",
    "    overlap_end = min(t_max, a_max)\n",
    "    overlap_len = max(0, (overlap_end - overlap_start + 1))\n",
    "\n",
    "    tracking_len = (t_max - t_min)+1\n",
    "    annotation_len = (a_max - a_min)+1\n",
    "\n",
    "    tracking_utilization = overlap_len / tracking_len if tracking_len > 0 else 0.0\n",
    "    annotation_coverage = overlap_len / annotation_len if annotation_len > 0 else 0.0\n",
    "\n",
    "    if tracking_utilization >= STRICT_THRESHOLD:\n",
    "        status, action = \"aligned\", \"none\"\n",
    "    elif tracking_utilization >= SOFT_THRESHOLD:\n",
    "        status, action = \"auto_trim\", \"trim_to_intersection\"\n",
    "    else:\n",
    "        status, action = \"manual_review\", \"check_alignment\"\n",
    "\n",
    "    \n",
    "    return {\n",
    "        \"tracking_range\": (t_min, t_max),\n",
    "        \"annotation_range\": (a_min, a_max),\n",
    "        \"tracking_frames\": tracking_len,\n",
    "        \"annotation_frames\": annotation_len,\n",
    "        \"overlap_frames\": overlap_len,\n",
    "        \"tracking_utilization_ratio\": round(tracking_utilization, 6),\n",
    "        \"annotation_coverage_ratio\": round(annotation_coverage, 6),\n",
    "        \"status\": status,\n",
    "        \"action\": action,\n",
    "        \"final_range\": (overlap_start, overlap_end)\n",
    "    }\n",
    "\n",
    "\n",
    "for folder, file_list in tqdm(valid_files_per_folder.items(), desc = \"Checking frame alignment\"):\n",
    "    folder_meta_dir = os.path.join(metadata_dir, folder)\n",
    "    os.makedirs(folder_meta_dir, exist_ok = True)\n",
    "\n",
    "    for file_name in file_list:\n",
    "        tracking_path = os.path.join(base_path, \"train_tracking\", folder, f\"{file_name}\")\n",
    "        annotation_path = os.path.join(base_path, \"train_annotation\", folder, f\"{file_name}\")\n",
    "\n",
    "        try:\n",
    "            tracking_df = pd.read_parquet(tracking_path, engine=\"fastparquet\")\n",
    "            annotation_df = pd.read_parquet(annotation_path, engine=\"fastparquet\")\n",
    "\n",
    "            info = check_frame_alignment(tracking_df, annotation_df)\n",
    "            info.update({\"folder\": folder, \"file\": file_name})\n",
    "            alignment_records.append(info)\n",
    "\n",
    "            json_path = os.path.join(folder_meta_dir, f\"{file_name}.json\")\n",
    "            with open(json_path, \"w\") as f:\n",
    "                json.dump(to_serializable(info), f, indent=4)\n",
    "        except Exception as e:\n",
    "            print(f\"Error in {folder}/{file_name}: {e}\")\n",
    "\n",
    "\n",
    "alignment_df = pd.DataFrame(alignment_records)\n",
    "summary_path = os.path.join(root_path, \"data\", \"frame_alignment_summary.csv\")\n",
    "alignment_df.to_csv(summary_path, index=False)\n",
    "\n",
    "print(f\"Frame alignment summary saved to: {summary_path}\")\n",
    "print(f\"Per-file metadata saved under: {metadata_dir}\")\n"
   ]
  }
 ],
 "metadata": {
  "kernelspec": {
   "display_name": "dl_env",
   "language": "python",
   "name": "python3"
  },
  "language_info": {
   "codemirror_mode": {
    "name": "ipython",
    "version": 3
   },
   "file_extension": ".py",
   "mimetype": "text/x-python",
   "name": "python",
   "nbconvert_exporter": "python",
   "pygments_lexer": "ipython3",
   "version": "3.10.12"
  }
 },
 "nbformat": 4,
 "nbformat_minor": 5
}

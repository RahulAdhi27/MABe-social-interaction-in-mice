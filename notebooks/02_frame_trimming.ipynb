{
 "cells": [
  {
   "cell_type": "code",
   "execution_count": 1,
   "id": "61ea3928",
   "metadata": {},
   "outputs": [
    {
     "name": "stdout",
     "output_type": "stream",
     "text": [
      "Environment ready\n"
     ]
    }
   ],
   "source": [
    "import pandas as pd\n",
    "import numpy as np\n",
    "import os\n",
    "\n",
    "base_dir = \"../\"\n",
    "data_dir = os.path.join(base_dir, \"data\")\n",
    "tracking_dir = os.path.join(base_dir, \"MABe-mouse-behavior-detection/train_tracking\")\n",
    "align_summary = os.path.join(data_dir, \"frame_alignment_summary.csv\")\n",
    "\n",
    "print(\"Environment ready\")"
   ]
  },
  {
   "cell_type": "code",
   "execution_count": 91,
   "id": "e38f7f1d",
   "metadata": {},
   "outputs": [
    {
     "name": "stdout",
     "output_type": "stream",
     "text": [
      "847\n"
     ]
    },
    {
     "data": {
      "text/html": [
       "<div>\n",
       "<style scoped>\n",
       "    .dataframe tbody tr th:only-of-type {\n",
       "        vertical-align: middle;\n",
       "    }\n",
       "\n",
       "    .dataframe tbody tr th {\n",
       "        vertical-align: top;\n",
       "    }\n",
       "\n",
       "    .dataframe thead th {\n",
       "        text-align: right;\n",
       "    }\n",
       "</style>\n",
       "<table border=\"1\" class=\"dataframe\">\n",
       "  <thead>\n",
       "    <tr style=\"text-align: right;\">\n",
       "      <th></th>\n",
       "      <th>tracking_range</th>\n",
       "      <th>annotation_range</th>\n",
       "      <th>tracking_frames</th>\n",
       "      <th>annotation_frames</th>\n",
       "      <th>overlap_frames</th>\n",
       "      <th>tracking_utilization_ratio</th>\n",
       "      <th>annotation_coverage_ratio</th>\n",
       "      <th>status</th>\n",
       "      <th>action</th>\n",
       "      <th>final_range</th>\n",
       "      <th>folder</th>\n",
       "      <th>file</th>\n",
       "    </tr>\n",
       "  </thead>\n",
       "  <tbody>\n",
       "    <tr>\n",
       "      <th>0</th>\n",
       "      <td>(0, 89975)</td>\n",
       "      <td>(2, 89467)</td>\n",
       "      <td>89976</td>\n",
       "      <td>89466</td>\n",
       "      <td>89466</td>\n",
       "      <td>0.994332</td>\n",
       "      <td>1.0</td>\n",
       "      <td>aligned</td>\n",
       "      <td>none</td>\n",
       "      <td>(2, 89467)</td>\n",
       "      <td>AdaptableSnail</td>\n",
       "      <td>1212811043.parquet</td>\n",
       "    </tr>\n",
       "    <tr>\n",
       "      <th>1</th>\n",
       "      <td>(0, 53917)</td>\n",
       "      <td>(199, 46370)</td>\n",
       "      <td>53918</td>\n",
       "      <td>46172</td>\n",
       "      <td>46172</td>\n",
       "      <td>0.856337</td>\n",
       "      <td>1.0</td>\n",
       "      <td>manual_review</td>\n",
       "      <td>check_alignment</td>\n",
       "      <td>(199, 46370)</td>\n",
       "      <td>AdaptableSnail</td>\n",
       "      <td>1260392287.parquet</td>\n",
       "    </tr>\n",
       "    <tr>\n",
       "      <th>2</th>\n",
       "      <td>(0, 81779)</td>\n",
       "      <td>(6, 80461)</td>\n",
       "      <td>81780</td>\n",
       "      <td>80456</td>\n",
       "      <td>80456</td>\n",
       "      <td>0.983810</td>\n",
       "      <td>1.0</td>\n",
       "      <td>auto_trim</td>\n",
       "      <td>trim_to_intersection</td>\n",
       "      <td>(6, 80461)</td>\n",
       "      <td>AdaptableSnail</td>\n",
       "      <td>1351098077.parquet</td>\n",
       "    </tr>\n",
       "    <tr>\n",
       "      <th>3</th>\n",
       "      <td>(0, 18431)</td>\n",
       "      <td>(49, 18352)</td>\n",
       "      <td>18432</td>\n",
       "      <td>18304</td>\n",
       "      <td>18304</td>\n",
       "      <td>0.993056</td>\n",
       "      <td>1.0</td>\n",
       "      <td>aligned</td>\n",
       "      <td>none</td>\n",
       "      <td>(49, 18352)</td>\n",
       "      <td>AdaptableSnail</td>\n",
       "      <td>1408652858.parquet</td>\n",
       "    </tr>\n",
       "    <tr>\n",
       "      <th>4</th>\n",
       "      <td>(0, 89975)</td>\n",
       "      <td>(324, 88906)</td>\n",
       "      <td>89976</td>\n",
       "      <td>88583</td>\n",
       "      <td>88583</td>\n",
       "      <td>0.984518</td>\n",
       "      <td>1.0</td>\n",
       "      <td>auto_trim</td>\n",
       "      <td>trim_to_intersection</td>\n",
       "      <td>(324, 88906)</td>\n",
       "      <td>AdaptableSnail</td>\n",
       "      <td>143861384.parquet</td>\n",
       "    </tr>\n",
       "  </tbody>\n",
       "</table>\n",
       "</div>"
      ],
      "text/plain": [
       "  tracking_range annotation_range  tracking_frames  annotation_frames  \\\n",
       "0     (0, 89975)       (2, 89467)            89976              89466   \n",
       "1     (0, 53917)     (199, 46370)            53918              46172   \n",
       "2     (0, 81779)       (6, 80461)            81780              80456   \n",
       "3     (0, 18431)      (49, 18352)            18432              18304   \n",
       "4     (0, 89975)     (324, 88906)            89976              88583   \n",
       "\n",
       "   overlap_frames  tracking_utilization_ratio  annotation_coverage_ratio  \\\n",
       "0           89466                    0.994332                        1.0   \n",
       "1           46172                    0.856337                        1.0   \n",
       "2           80456                    0.983810                        1.0   \n",
       "3           18304                    0.993056                        1.0   \n",
       "4           88583                    0.984518                        1.0   \n",
       "\n",
       "          status                action   final_range          folder  \\\n",
       "0        aligned                  none    (2, 89467)  AdaptableSnail   \n",
       "1  manual_review       check_alignment  (199, 46370)  AdaptableSnail   \n",
       "2      auto_trim  trim_to_intersection    (6, 80461)  AdaptableSnail   \n",
       "3        aligned                  none   (49, 18352)  AdaptableSnail   \n",
       "4      auto_trim  trim_to_intersection  (324, 88906)  AdaptableSnail   \n",
       "\n",
       "                 file  \n",
       "0  1212811043.parquet  \n",
       "1  1260392287.parquet  \n",
       "2  1351098077.parquet  \n",
       "3  1408652858.parquet  \n",
       "4   143861384.parquet  "
      ]
     },
     "execution_count": 91,
     "metadata": {},
     "output_type": "execute_result"
    }
   ],
   "source": [
    "df = pd.read_csv(align_summary)\n",
    "print(len(df))\n",
    "df.head()"
   ]
  },
  {
   "cell_type": "code",
   "execution_count": 92,
   "id": "6ee39954",
   "metadata": {},
   "outputs": [],
   "source": [
    "import fastparquet\n",
    "def trim_tracking_file(track_path, start_frame, stop_frame):\n",
    " \n",
    "    if not os.path.exists(track_path):\n",
    "        return None, None\n",
    "\n",
    "    ext = os.path.splitext(track_path)[1].lower()\n",
    "    if ext == \".csv\":\n",
    "        df_track = pd.read_csv(track_path)\n",
    "    elif ext == \".parquet\":\n",
    "        df_track = pd.read_parquet(track_path)\n",
    "    else:\n",
    "        return None, None\n",
    "\n",
    "    frame_col = \"video_frame\" if \"video_frame\" in df_track.columns else \"frame\"\n",
    "\n",
    "    before = df_track[frame_col].nunique()\n",
    "    trimmed = df_track[(df_track[frame_col] >= start_frame) & (df_track[frame_col] <= stop_frame)]\n",
    "    after = trimmed[frame_col].nunique()\n",
    "\n",
    "    keep_ratio = round(after / before, 3) if before > 0 else 0\n",
    "    return after, keep_ratio\n",
    "\n"
   ]
  },
  {
   "cell_type": "code",
   "execution_count": 93,
   "id": "a38b90f9",
   "metadata": {},
   "outputs": [],
   "source": [
    "def parse_range(val):\n",
    "    if pd.isna(val):\n",
    "        return (None, None)\n",
    "    if isinstance(val, str):\n",
    "        try:\n",
    "            start, stop = ast.literal_eval(val)\n",
    "            return int(start), int(stop)\n",
    "        except Exception:\n",
    "            return (None, None)\n",
    "\n",
    "    if isinstance(val, (list, tuple)) and len(val) == 2:\n",
    "        return int(val[0]), int(val[1])\n",
    "    return (None, None)\n",
    "\n",
    "df[[\"final_start\", \"final_stop\"]] = df[\"final_range\"].apply(parse_range).apply(pd.Series)\n"
   ]
  },
  {
   "cell_type": "code",
   "execution_count": 94,
   "id": "afdb7f97",
   "metadata": {},
   "outputs": [
    {
     "name": "stderr",
     "output_type": "stream",
     "text": [
      "100%|██████████| 847/847 [00:15<00:00, 55.11it/s] "
     ]
    },
    {
     "name": "stdout",
     "output_type": "stream",
     "text": [
      "Trim Summary Saved,  847 files\n"
     ]
    },
    {
     "name": "stderr",
     "output_type": "stream",
     "text": [
      "\n"
     ]
    },
    {
     "data": {
      "text/html": [
       "<div>\n",
       "<style scoped>\n",
       "    .dataframe tbody tr th:only-of-type {\n",
       "        vertical-align: middle;\n",
       "    }\n",
       "\n",
       "    .dataframe tbody tr th {\n",
       "        vertical-align: top;\n",
       "    }\n",
       "\n",
       "    .dataframe thead th {\n",
       "        text-align: right;\n",
       "    }\n",
       "</style>\n",
       "<table border=\"1\" class=\"dataframe\">\n",
       "  <thead>\n",
       "    <tr style=\"text-align: right;\">\n",
       "      <th></th>\n",
       "      <th>folder</th>\n",
       "      <th>file</th>\n",
       "      <th>final_start</th>\n",
       "      <th>final_stop</th>\n",
       "      <th>frames_after</th>\n",
       "      <th>trim_ratio</th>\n",
       "    </tr>\n",
       "  </thead>\n",
       "  <tbody>\n",
       "    <tr>\n",
       "      <th>0</th>\n",
       "      <td>AdaptableSnail</td>\n",
       "      <td>1212811043.parquet</td>\n",
       "      <td>2</td>\n",
       "      <td>89467</td>\n",
       "      <td>89456</td>\n",
       "      <td>0.994</td>\n",
       "    </tr>\n",
       "    <tr>\n",
       "      <th>1</th>\n",
       "      <td>AdaptableSnail</td>\n",
       "      <td>1260392287.parquet</td>\n",
       "      <td>199</td>\n",
       "      <td>46370</td>\n",
       "      <td>46172</td>\n",
       "      <td>0.856</td>\n",
       "    </tr>\n",
       "    <tr>\n",
       "      <th>2</th>\n",
       "      <td>AdaptableSnail</td>\n",
       "      <td>1351098077.parquet</td>\n",
       "      <td>6</td>\n",
       "      <td>80461</td>\n",
       "      <td>80456</td>\n",
       "      <td>0.984</td>\n",
       "    </tr>\n",
       "    <tr>\n",
       "      <th>3</th>\n",
       "      <td>AdaptableSnail</td>\n",
       "      <td>1408652858.parquet</td>\n",
       "      <td>49</td>\n",
       "      <td>18352</td>\n",
       "      <td>18304</td>\n",
       "      <td>0.993</td>\n",
       "    </tr>\n",
       "    <tr>\n",
       "      <th>4</th>\n",
       "      <td>AdaptableSnail</td>\n",
       "      <td>143861384.parquet</td>\n",
       "      <td>324</td>\n",
       "      <td>88906</td>\n",
       "      <td>88272</td>\n",
       "      <td>0.984</td>\n",
       "    </tr>\n",
       "  </tbody>\n",
       "</table>\n",
       "</div>"
      ],
      "text/plain": [
       "           folder                file  final_start  final_stop  frames_after  \\\n",
       "0  AdaptableSnail  1212811043.parquet            2       89467         89456   \n",
       "1  AdaptableSnail  1260392287.parquet          199       46370         46172   \n",
       "2  AdaptableSnail  1351098077.parquet            6       80461         80456   \n",
       "3  AdaptableSnail  1408652858.parquet           49       18352         18304   \n",
       "4  AdaptableSnail   143861384.parquet          324       88906         88272   \n",
       "\n",
       "   trim_ratio  \n",
       "0       0.994  \n",
       "1       0.856  \n",
       "2       0.984  \n",
       "3       0.993  \n",
       "4       0.984  "
      ]
     },
     "execution_count": 94,
     "metadata": {},
     "output_type": "execute_result"
    }
   ],
   "source": [
    "records = []\n",
    "for _, row in tqdm(df.iterrows(), total=len(df)):\n",
    "    folder = row[\"folder\"]\n",
    "    file = row[\"file\"]\n",
    "\n",
    "    fstart, fstop = row[\"final_start\"], row[\"final_stop\"]\n",
    "\n",
    "    if pd.isna(fstart) or pd.isna(fstop):\n",
    "        continue\n",
    "\n",
    "    track_path = os.path.join(tracking_dir, folder, file)\n",
    "    after, ratio = trim_tracking_file(track_path, fstart, fstop)\n",
    "\n",
    "    records.append({\n",
    "        \"folder\": folder, \n",
    "        \"file\": file, \n",
    "        \"final_start\": fstart, \n",
    "        \"final_stop\": fstop, \n",
    "        \"frames_after\": after, \n",
    "        \"trim_ratio\": ratio\n",
    "    })\n",
    "\n",
    "df_trimmed = pd.DataFrame(records)\n",
    "df_trimmed.to_csv(os.path.join(data_dir, \"trimmed_summary.csv\"), index=False)\n",
    "print(\"Trim Summary Saved, \", len(df_trimmed), \"files\")\n",
    "df_trimmed.head()"
   ]
  },
  {
   "cell_type": "markdown",
   "id": "aff4a251",
   "metadata": {},
   "source": []
  },
  {
   "cell_type": "code",
   "execution_count": 95,
   "id": "0fd8dbbe",
   "metadata": {},
   "outputs": [
    {
     "name": "stdout",
     "output_type": "stream",
     "text": [
      "Rows:  847\n"
     ]
    },
    {
     "data": {
      "text/html": [
       "<div>\n",
       "<style scoped>\n",
       "    .dataframe tbody tr th:only-of-type {\n",
       "        vertical-align: middle;\n",
       "    }\n",
       "\n",
       "    .dataframe tbody tr th {\n",
       "        vertical-align: top;\n",
       "    }\n",
       "\n",
       "    .dataframe thead th {\n",
       "        text-align: right;\n",
       "    }\n",
       "</style>\n",
       "<table border=\"1\" class=\"dataframe\">\n",
       "  <thead>\n",
       "    <tr style=\"text-align: right;\">\n",
       "      <th></th>\n",
       "      <th>folder</th>\n",
       "      <th>file</th>\n",
       "      <th>final_start</th>\n",
       "      <th>final_stop</th>\n",
       "      <th>frames_after</th>\n",
       "      <th>trim_ratio</th>\n",
       "    </tr>\n",
       "  </thead>\n",
       "  <tbody>\n",
       "    <tr>\n",
       "      <th>0</th>\n",
       "      <td>AdaptableSnail</td>\n",
       "      <td>1212811043.parquet</td>\n",
       "      <td>2</td>\n",
       "      <td>89467</td>\n",
       "      <td>89456</td>\n",
       "      <td>0.994</td>\n",
       "    </tr>\n",
       "    <tr>\n",
       "      <th>1</th>\n",
       "      <td>AdaptableSnail</td>\n",
       "      <td>1260392287.parquet</td>\n",
       "      <td>199</td>\n",
       "      <td>46370</td>\n",
       "      <td>46172</td>\n",
       "      <td>0.856</td>\n",
       "    </tr>\n",
       "    <tr>\n",
       "      <th>2</th>\n",
       "      <td>AdaptableSnail</td>\n",
       "      <td>1351098077.parquet</td>\n",
       "      <td>6</td>\n",
       "      <td>80461</td>\n",
       "      <td>80456</td>\n",
       "      <td>0.984</td>\n",
       "    </tr>\n",
       "    <tr>\n",
       "      <th>3</th>\n",
       "      <td>AdaptableSnail</td>\n",
       "      <td>1408652858.parquet</td>\n",
       "      <td>49</td>\n",
       "      <td>18352</td>\n",
       "      <td>18304</td>\n",
       "      <td>0.993</td>\n",
       "    </tr>\n",
       "    <tr>\n",
       "      <th>4</th>\n",
       "      <td>AdaptableSnail</td>\n",
       "      <td>143861384.parquet</td>\n",
       "      <td>324</td>\n",
       "      <td>88906</td>\n",
       "      <td>88272</td>\n",
       "      <td>0.984</td>\n",
       "    </tr>\n",
       "  </tbody>\n",
       "</table>\n",
       "</div>"
      ],
      "text/plain": [
       "           folder                file  final_start  final_stop  frames_after  \\\n",
       "0  AdaptableSnail  1212811043.parquet            2       89467         89456   \n",
       "1  AdaptableSnail  1260392287.parquet          199       46370         46172   \n",
       "2  AdaptableSnail  1351098077.parquet            6       80461         80456   \n",
       "3  AdaptableSnail  1408652858.parquet           49       18352         18304   \n",
       "4  AdaptableSnail   143861384.parquet          324       88906         88272   \n",
       "\n",
       "   trim_ratio  \n",
       "0       0.994  \n",
       "1       0.856  \n",
       "2       0.984  \n",
       "3       0.993  \n",
       "4       0.984  "
      ]
     },
     "execution_count": 95,
     "metadata": {},
     "output_type": "execute_result"
    }
   ],
   "source": [
    "df = pd.read_csv(os.path.join(data_dir, \"trimmed_summary.csv\"))\n",
    "print(\"Rows: \", len(df))\n",
    "df.head()"
   ]
  },
  {
   "cell_type": "code",
   "execution_count": 97,
   "id": "382a2ffc",
   "metadata": {},
   "outputs": [
    {
     "data": {
      "text/plain": [
       "count    847.000000\n",
       "mean       0.916921\n",
       "std        0.165197\n",
       "min        0.001000\n",
       "25%        0.934000\n",
       "50%        0.976000\n",
       "75%        0.992000\n",
       "max        1.000000\n",
       "Name: trim_ratio, dtype: float64"
      ]
     },
     "execution_count": 97,
     "metadata": {},
     "output_type": "execute_result"
    }
   ],
   "source": [
    "df[\"trim_ratio\"].describe()"
   ]
  },
  {
   "cell_type": "code",
   "execution_count": 98,
   "id": "6f1c2a7b",
   "metadata": {},
   "outputs": [
    {
     "data": {
      "image/png": "[encoded data removed]",
      "text/plain": [
       "<Figure size 600x400 with 1 Axes>"
      ]
     },
     "metadata": {},
     "output_type": "display_data"
    }
   ],
   "source": [
    "import matplotlib.pyplot as plt\n",
    "\n",
    "plt.figure(figsize=(6, 4))\n",
    "plt.hist(df[\"trim_ratio\"].dropna(), bins = 20)\n",
    "plt.title(\"Trim Ratio distribution\")\n",
    "plt.xlabel(\"keep ratio\")\n",
    "plt.ylabel(\"Number of files\")\n",
    "plt.show()"
   ]
  },
  {
   "cell_type": "code",
   "execution_count": 99,
   "id": "6a83b608",
   "metadata": {},
   "outputs": [
    {
     "name": "stdout",
     "output_type": "stream",
     "text": [
      "Files with low keep ratio (< 0.6): 44 / 847\n",
      "Remaining files after filter: 803\n"
     ]
    }
   ],
   "source": [
    "low_ratio = df[df[\"trim_ratio\"] < 0.6]\n",
    "print(f\"Files with low keep ratio (< 0.6): {len(low_ratio)} / {len(df)}\")\n",
    "\n",
    "low_ratio.to_csv(\"../data/low_ratio_files.csv\", index=False)\n",
    "\n",
    "df_clean = df[df[\"trim_ratio\"] >= 0.6]\n",
    "print(f\"Remaining files after filter: {len(df_clean)}\")\n",
    "df_clean.to_csv(\"../data/trimmed_summary_filtered.csv\", index=False)\n"
   ]
  },
  {
   "cell_type": "code",
   "execution_count": null,
   "id": "526a40b3",
   "metadata": {},
   "outputs": [],
   "source": []
  }
 ],
 "metadata": {
  "kernelspec": {
   "display_name": "dl_env",
   "language": "python",
   "name": "python3"
  },
  "language_info": {
   "codemirror_mode": {
    "name": "ipython",
    "version": 3
   },
   "file_extension": ".py",
   "mimetype": "text/x-python",
   "name": "python",
   "nbconvert_exporter": "python",
   "pygments_lexer": "ipython3",
   "version": "3.10.12"
  }
 },
 "nbformat": 4,
 "nbformat_minor": 5
}
